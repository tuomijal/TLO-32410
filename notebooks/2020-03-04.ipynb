{
 "cells": [
  {
   "cell_type": "code",
   "execution_count": 3,
   "metadata": {},
   "outputs": [],
   "source": [
    "import pandas as pd\n",
    "pd.set_option('display.max_columns', 200)\n",
    "pd.set_option('display.max_rows', 200)\n",
    "import geopandas as gpd\n",
    "from pyprojroot import here\n",
    "\n",
    "%matplotlib inline\n",
    "\n",
    "# up figure resolution\n",
    "import matplotlib as mpl\n",
    "mpl.rcParams['figure.dpi']= 150"
   ]
  },
  {
   "cell_type": "code",
   "execution_count": 4,
   "metadata": {},
   "outputs": [],
   "source": [
    "import ipywidgets as widgets\n",
    "from ipywidgets import interact, interact_manual"
   ]
  },
  {
   "cell_type": "code",
   "execution_count": 5,
   "metadata": {},
   "outputs": [
    {
     "name": "stderr",
     "output_type": "stream",
     "text": [
      "/Users/jalmarituominen/miniconda3/envs/TLO-32410/lib/python3.8/site-packages/IPython/core/interactiveshell.py:3062: DtypeWarning: Columns (43,61,62) have mixed types.Specify dtype option on import or set low_memory=False.\n",
      "  has_raised = await self.run_ast_nodes(code_ast.body, cell_name,\n"
     ]
    }
   ],
   "source": [
    "calendar_detailed = pd.read_csv(here() / 'data/raw/renamed/calendar_detailed.csv')\n",
    "listings_detailed = pd.read_csv(here() / 'data/raw/renamed/listings_detailed.csv')\n",
    "reviews_detailed = pd.read_csv(here() / 'data/raw/renamed/reviews_detailed.csv')\n",
    "\n",
    "listings_summary = pd.read_csv(here() / 'data/raw/renamed/listings_summary.csv')\n",
    "reviews_summary = pd.read_csv(here() / 'data/raw/renamed/reviews_summary.csv')\n",
    "\n",
    "neighbourhoods_csv = pd.read_csv(here() / 'data/raw/renamed/neighbourhoods.csv')\n",
    "neighbourhoods_json = gpd.read_file(here() / 'data/raw/renamed/neighbourhoods.geojson')"
   ]
  },
  {
   "cell_type": "code",
   "execution_count": 18,
   "metadata": {},
   "outputs": [
    {
     "data": {
      "application/vnd.jupyter.widget-view+json": {
       "model_id": "c58355173b0243f68b89395903746139",
       "version_major": 2,
       "version_minor": 0
      },
      "text/plain": [
       "interactive(children=(IntSlider(value=2, description='x', max=6, min=-2), Output()), _dom_classes=('widget-int…"
      ]
     },
     "metadata": {},
     "output_type": "display_data"
    }
   ],
   "source": [
    "@interact\n",
    "def show_data(x=2):\n",
    "    return listings_summary.iloc[:x]"
   ]
  }
 ],
 "metadata": {
  "kernelspec": {
   "display_name": "TLO-32410",
   "language": "python",
   "name": "tlo-32410"
  },
  "language_info": {
   "codemirror_mode": {
    "name": "ipython",
    "version": 3
   },
   "file_extension": ".py",
   "mimetype": "text/x-python",
   "name": "python",
   "nbconvert_exporter": "python",
   "pygments_lexer": "ipython3",
   "version": "3.8.2"
  }
 },
 "nbformat": 4,
 "nbformat_minor": 4
}
