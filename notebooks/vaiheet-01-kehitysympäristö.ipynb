{
 "cells": [
  {
   "cell_type": "markdown",
   "metadata": {},
   "source": [
    "## Kehitysympäristö\n",
    "\n",
    "Analyysit toteutetaan täysin Jupyter Lab -ympäristössä. Interaktiivisuus toteutetaan [Binder-palvelulla](https://mybinder.org/). Kattava lista riippuvuuksista löytyy Github repositorion `environment.yml` tiedostosta. Tämä sisältää kaiken tarpeellisen Binder-palvelimen pystyttämiseen yhdellä napinpainalluksella.\n",
    "\n",
    "Ympäristön hallinta tapahtuu [minicondaa](https://docs.conda.io/en/latest/miniconda.html) käyttäen.\n",
    "\n",
    "2/3 p."
   ]
  }
 ],
 "metadata": {
  "kernelspec": {
   "display_name": "TLO-32410-3D",
   "language": "python",
   "name": "tlo-32410-3d"
  },
  "language_info": {
   "codemirror_mode": {
    "name": "ipython",
    "version": 3
   },
   "file_extension": ".py",
   "mimetype": "text/x-python",
   "name": "python",
   "nbconvert_exporter": "python",
   "pygments_lexer": "ipython3",
   "version": "3.8.2"
  }
 },
 "nbformat": 4,
 "nbformat_minor": 4
}
